{
 "cells": [
  {
   "cell_type": "code",
   "execution_count": 1,
   "metadata": {},
   "outputs": [
    {
     "data": {
      "text/html": [
       "<div>\n",
       "<style scoped>\n",
       "    .dataframe tbody tr th:only-of-type {\n",
       "        vertical-align: middle;\n",
       "    }\n",
       "\n",
       "    .dataframe tbody tr th {\n",
       "        vertical-align: top;\n",
       "    }\n",
       "\n",
       "    .dataframe thead th {\n",
       "        text-align: right;\n",
       "    }\n",
       "</style>\n",
       "<table border=\"1\" class=\"dataframe\">\n",
       "  <thead>\n",
       "    <tr style=\"text-align: right;\">\n",
       "      <th></th>\n",
       "      <th>densify</th>\n",
       "      <th>graph_propagate</th>\n",
       "      <th>label_propagate_continuous</th>\n",
       "      <th>label_propagate_probabilistic</th>\n",
       "      <th>method_count</th>\n",
       "      <th>random_walk</th>\n",
       "      <th>token</th>\n",
       "    </tr>\n",
       "  </thead>\n",
       "  <tbody>\n",
       "    <tr>\n",
       "      <th>0</th>\n",
       "      <td>NaN</td>\n",
       "      <td>0.04</td>\n",
       "      <td>NaN</td>\n",
       "      <td>0.02</td>\n",
       "      <td>2</td>\n",
       "      <td>NaN</td>\n",
       "      <td>saimin</td>\n",
       "    </tr>\n",
       "    <tr>\n",
       "      <th>1</th>\n",
       "      <td>0.02</td>\n",
       "      <td>0.04</td>\n",
       "      <td>NaN</td>\n",
       "      <td>0.02</td>\n",
       "      <td>3</td>\n",
       "      <td>NaN</td>\n",
       "      <td>coffee-related</td>\n",
       "    </tr>\n",
       "    <tr>\n",
       "      <th>2</th>\n",
       "      <td>0.10</td>\n",
       "      <td>0.04</td>\n",
       "      <td>NaN</td>\n",
       "      <td>0.02</td>\n",
       "      <td>3</td>\n",
       "      <td>NaN</td>\n",
       "      <td>mid-week</td>\n",
       "    </tr>\n",
       "    <tr>\n",
       "      <th>3</th>\n",
       "      <td>-0.12</td>\n",
       "      <td>0.04</td>\n",
       "      <td>NaN</td>\n",
       "      <td>0.02</td>\n",
       "      <td>3</td>\n",
       "      <td>NaN</td>\n",
       "      <td>white-walled</td>\n",
       "    </tr>\n",
       "    <tr>\n",
       "      <th>4</th>\n",
       "      <td>-0.18</td>\n",
       "      <td>0.04</td>\n",
       "      <td>NaN</td>\n",
       "      <td>0.02</td>\n",
       "      <td>3</td>\n",
       "      <td>NaN</td>\n",
       "      <td>5-diamond</td>\n",
       "    </tr>\n",
       "  </tbody>\n",
       "</table>\n",
       "</div>"
      ],
      "text/plain": [
       "   densify  graph_propagate  label_propagate_continuous  \\\n",
       "0      NaN             0.04                         NaN   \n",
       "1     0.02             0.04                         NaN   \n",
       "2     0.10             0.04                         NaN   \n",
       "3    -0.12             0.04                         NaN   \n",
       "4    -0.18             0.04                         NaN   \n",
       "\n",
       "   label_propagate_probabilistic  method_count  random_walk           token  \n",
       "0                           0.02             2          NaN          saimin  \n",
       "1                           0.02             3          NaN  coffee-related  \n",
       "2                           0.02             3          NaN        mid-week  \n",
       "3                           0.02             3          NaN    white-walled  \n",
       "4                           0.02             3          NaN       5-diamond  "
      ]
     },
     "execution_count": 1,
     "metadata": {},
     "output_type": "execute_result"
    }
   ],
   "source": [
    "import sys\n",
    "import os\n",
    "if \"/opt/condaenv/anaconda2/envs/sentimentInduction\" not in sys.path:\n",
    "    sys.path.append(\"/opt/condaenv/anaconda2/envs/sentimentInduction\")\n",
    "if \"/opt/condaenv/anaconda2/envs/sentimentInduction/lib/python2.7/site-packages\" not in sys.path:\n",
    "    sys.path.append(\"/opt/condaenv/anaconda2/envs/sentimentInduction/lib/python2.7/site-packages\")\n",
    "import pandas as pd\n",
    "from socialsentRun.socialconfig import config\n",
    "COLLECT_ACCURACIS_DIR = \"/opt/condaenv/anaconda2/envs/sentimentInduction/socialsentRun/MeanPolaritiesByCategory/food/vocab_top20000\"\n",
    "import ujson\n",
    "open_file = os.path.join(COLLECT_ACCURACIS_DIR,\"food_vocab_top20000_mean_polarities.txt\")\n",
    "dfv = pd.read_json(open_file,orient='records',lines=True,encoding=\"utf-8\")\n",
    "dfv.head()"
   ]
  },
  {
   "cell_type": "code",
   "execution_count": 2,
   "metadata": {},
   "outputs": [],
   "source": [
    "from socialsentRun.socialconfig import FOOD_POSITIVE_SEEDS,FOOD_NEGATIVE_SEEDS,BARS_POSITIVE_SEEDS,BARS_NEGATIVE_SEEDS,LEISURE_POSITIVE_SEEDS,LEISURE_NEGATIVE_SEEDS,GROOMING_POSITIVE_SEEDS,GROOMING_NEGATIVE_SEEDS,HEALTH_POSITIVE_SEEDS,HEALTH_NEGATIVE_SEEDS,LEARN_POSITIVE_SEEDS,LEARN_NEGATIVE_SEEDS,SHOPPING_POSITIVE_SEEDS,SHOPPING_NEGATIVE_SEEDS,PLANNING_POSITIVE_SEEDS,PLANNING_NEGATIVE_SEEDS,SERVICES_POSITIVE_SEEDS,SERVICES_NEGATIVE_SEEDS,SPORTS_POSITIVE_SEEDS,SPORTS_NEGATIVE_SEEDS,MUNICIPAL_POSITIVE_SEEDS,MUNICIPAL_NEGATIVE_SEEDS"
   ]
  },
  {
   "cell_type": "code",
   "execution_count": 3,
   "metadata": {},
   "outputs": [],
   "source": [
    "FOOD_POSITIVE_SEEDS.extend(FOOD_NEGATIVE_SEEDS)"
   ]
  },
  {
   "cell_type": "code",
   "execution_count": 4,
   "metadata": {},
   "outputs": [],
   "source": [
    "dfgt4 = dfv[dfv['method_count'] > 4]"
   ]
  },
  {
   "cell_type": "code",
   "execution_count": 5,
   "metadata": {},
   "outputs": [],
   "source": [
    "dfgt4 = dfgt4[~dfgt4['token'].isin(FOOD_POSITIVE_SEEDS)]"
   ]
  },
  {
   "cell_type": "code",
   "execution_count": 6,
   "metadata": {},
   "outputs": [
    {
     "data": {
      "text/plain": [
       "(599, 7)"
      ]
     },
     "execution_count": 6,
     "metadata": {},
     "output_type": "execute_result"
    }
   ],
   "source": [
    "dfgt4.shape"
   ]
  },
  {
   "cell_type": "code",
   "execution_count": 7,
   "metadata": {},
   "outputs": [
    {
     "data": {
      "text/plain": [
       "'Ok'"
      ]
     },
     "execution_count": 7,
     "metadata": {},
     "output_type": "execute_result"
    }
   ],
   "source": [
    "\n",
    "dfgt4 = dfgt4.set_index('token')\n",
    "dfgt4.drop(['method_count'],inplace=True,axis=1)\n",
    "\"Ok\""
   ]
  },
  {
   "cell_type": "code",
   "execution_count": 8,
   "metadata": {},
   "outputs": [],
   "source": [
    "dfgt4['mean_pol'] = dfgt4.mean(axis=1)\n",
    "dfgt4['var'] = dfgt4.var(axis=1)"
   ]
  },
  {
   "cell_type": "code",
   "execution_count": 9,
   "metadata": {},
   "outputs": [
    {
     "data": {
      "text/html": [
       "<div>\n",
       "<style scoped>\n",
       "    .dataframe tbody tr th:only-of-type {\n",
       "        vertical-align: middle;\n",
       "    }\n",
       "\n",
       "    .dataframe tbody tr th {\n",
       "        vertical-align: top;\n",
       "    }\n",
       "\n",
       "    .dataframe thead th {\n",
       "        text-align: right;\n",
       "    }\n",
       "</style>\n",
       "<table border=\"1\" class=\"dataframe\">\n",
       "  <thead>\n",
       "    <tr style=\"text-align: right;\">\n",
       "      <th></th>\n",
       "      <th>densify</th>\n",
       "      <th>graph_propagate</th>\n",
       "      <th>label_propagate_continuous</th>\n",
       "      <th>label_propagate_probabilistic</th>\n",
       "      <th>random_walk</th>\n",
       "      <th>mean_pol</th>\n",
       "      <th>var</th>\n",
       "    </tr>\n",
       "    <tr>\n",
       "      <th>token</th>\n",
       "      <th></th>\n",
       "      <th></th>\n",
       "      <th></th>\n",
       "      <th></th>\n",
       "      <th></th>\n",
       "      <th></th>\n",
       "      <th></th>\n",
       "    </tr>\n",
       "  </thead>\n",
       "  <tbody>\n",
       "    <tr>\n",
       "      <th>terrific</th>\n",
       "      <td>0.81</td>\n",
       "      <td>1.00</td>\n",
       "      <td>0.34</td>\n",
       "      <td>0.35</td>\n",
       "      <td>0.89</td>\n",
       "      <td>0.678</td>\n",
       "      <td>0.077576</td>\n",
       "    </tr>\n",
       "    <tr>\n",
       "      <th>fabulous</th>\n",
       "      <td>0.76</td>\n",
       "      <td>0.78</td>\n",
       "      <td>0.37</td>\n",
       "      <td>0.39</td>\n",
       "      <td>0.90</td>\n",
       "      <td>0.640</td>\n",
       "      <td>0.047400</td>\n",
       "    </tr>\n",
       "    <tr>\n",
       "      <th>phenomenal</th>\n",
       "      <td>0.70</td>\n",
       "      <td>0.86</td>\n",
       "      <td>0.34</td>\n",
       "      <td>0.36</td>\n",
       "      <td>0.88</td>\n",
       "      <td>0.628</td>\n",
       "      <td>0.055456</td>\n",
       "    </tr>\n",
       "    <tr>\n",
       "      <th>outstanding</th>\n",
       "      <td>0.71</td>\n",
       "      <td>0.64</td>\n",
       "      <td>0.34</td>\n",
       "      <td>0.36</td>\n",
       "      <td>0.90</td>\n",
       "      <td>0.590</td>\n",
       "      <td>0.045680</td>\n",
       "    </tr>\n",
       "    <tr>\n",
       "      <th>incredible</th>\n",
       "      <td>0.75</td>\n",
       "      <td>0.70</td>\n",
       "      <td>0.30</td>\n",
       "      <td>0.32</td>\n",
       "      <td>0.86</td>\n",
       "      <td>0.586</td>\n",
       "      <td>0.053504</td>\n",
       "    </tr>\n",
       "  </tbody>\n",
       "</table>\n",
       "</div>"
      ],
      "text/plain": [
       "             densify  graph_propagate  label_propagate_continuous  \\\n",
       "token                                                               \n",
       "terrific        0.81             1.00                        0.34   \n",
       "fabulous        0.76             0.78                        0.37   \n",
       "phenomenal      0.70             0.86                        0.34   \n",
       "outstanding     0.71             0.64                        0.34   \n",
       "incredible      0.75             0.70                        0.30   \n",
       "\n",
       "             label_propagate_probabilistic  random_walk  mean_pol       var  \n",
       "token                                                                        \n",
       "terrific                              0.35         0.89     0.678  0.077576  \n",
       "fabulous                              0.39         0.90     0.640  0.047400  \n",
       "phenomenal                            0.36         0.88     0.628  0.055456  \n",
       "outstanding                           0.36         0.90     0.590  0.045680  \n",
       "incredible                            0.32         0.86     0.586  0.053504  "
      ]
     },
     "execution_count": 9,
     "metadata": {},
     "output_type": "execute_result"
    }
   ],
   "source": [
    "dfgt4 = dfgt4.sort_values('mean_pol',ascending=False)\n",
    "dfgt4.head()"
   ]
  },
  {
   "cell_type": "code",
   "execution_count": 15,
   "metadata": {},
   "outputs": [
    {
     "data": {
      "text/plain": [
       "'0.026'"
      ]
     },
     "execution_count": 15,
     "metadata": {},
     "output_type": "execute_result"
    }
   ],
   "source": [
    "str(dfgt4['var'].mean())[:5]"
   ]
  },
  {
   "cell_type": "code",
   "execution_count": 10,
   "metadata": {},
   "outputs": [
    {
     "data": {
      "text/html": [
       "<div>\n",
       "<style scoped>\n",
       "    .dataframe tbody tr th:only-of-type {\n",
       "        vertical-align: middle;\n",
       "    }\n",
       "\n",
       "    .dataframe tbody tr th {\n",
       "        vertical-align: top;\n",
       "    }\n",
       "\n",
       "    .dataframe thead th {\n",
       "        text-align: right;\n",
       "    }\n",
       "</style>\n",
       "<table border=\"1\" class=\"dataframe\">\n",
       "  <thead>\n",
       "    <tr style=\"text-align: right;\">\n",
       "      <th></th>\n",
       "      <th>densify</th>\n",
       "      <th>graph_propagate</th>\n",
       "      <th>label_propagate_continuous</th>\n",
       "      <th>label_propagate_probabilistic</th>\n",
       "      <th>random_walk</th>\n",
       "      <th>mean_pol</th>\n",
       "      <th>var</th>\n",
       "    </tr>\n",
       "    <tr>\n",
       "      <th>token</th>\n",
       "      <th></th>\n",
       "      <th></th>\n",
       "      <th></th>\n",
       "      <th></th>\n",
       "      <th></th>\n",
       "      <th></th>\n",
       "      <th></th>\n",
       "    </tr>\n",
       "  </thead>\n",
       "  <tbody>\n",
       "    <tr>\n",
       "      <th>wet</th>\n",
       "      <td>-0.62</td>\n",
       "      <td>-0.45</td>\n",
       "      <td>-0.27</td>\n",
       "      <td>-0.25</td>\n",
       "      <td>-0.82</td>\n",
       "      <td>-0.482</td>\n",
       "      <td>0.046616</td>\n",
       "    </tr>\n",
       "    <tr>\n",
       "      <th>limp</th>\n",
       "      <td>-0.66</td>\n",
       "      <td>-0.59</td>\n",
       "      <td>-0.26</td>\n",
       "      <td>-0.24</td>\n",
       "      <td>-0.80</td>\n",
       "      <td>-0.510</td>\n",
       "      <td>0.049680</td>\n",
       "    </tr>\n",
       "    <tr>\n",
       "      <th>inedible</th>\n",
       "      <td>-0.79</td>\n",
       "      <td>-0.58</td>\n",
       "      <td>-0.25</td>\n",
       "      <td>-0.24</td>\n",
       "      <td>-0.80</td>\n",
       "      <td>-0.532</td>\n",
       "      <td>0.061096</td>\n",
       "    </tr>\n",
       "    <tr>\n",
       "      <th>sloppy</th>\n",
       "      <td>-0.60</td>\n",
       "      <td>-0.59</td>\n",
       "      <td>-0.32</td>\n",
       "      <td>-0.31</td>\n",
       "      <td>-0.85</td>\n",
       "      <td>-0.534</td>\n",
       "      <td>0.040664</td>\n",
       "    </tr>\n",
       "    <tr>\n",
       "      <th>horrible</th>\n",
       "      <td>-0.85</td>\n",
       "      <td>-0.95</td>\n",
       "      <td>-0.21</td>\n",
       "      <td>-0.20</td>\n",
       "      <td>-0.79</td>\n",
       "      <td>-0.600</td>\n",
       "      <td>0.106640</td>\n",
       "    </tr>\n",
       "  </tbody>\n",
       "</table>\n",
       "</div>"
      ],
      "text/plain": [
       "          densify  graph_propagate  label_propagate_continuous  \\\n",
       "token                                                            \n",
       "wet         -0.62            -0.45                       -0.27   \n",
       "limp        -0.66            -0.59                       -0.26   \n",
       "inedible    -0.79            -0.58                       -0.25   \n",
       "sloppy      -0.60            -0.59                       -0.32   \n",
       "horrible    -0.85            -0.95                       -0.21   \n",
       "\n",
       "          label_propagate_probabilistic  random_walk  mean_pol       var  \n",
       "token                                                                     \n",
       "wet                               -0.25        -0.82    -0.482  0.046616  \n",
       "limp                              -0.24        -0.80    -0.510  0.049680  \n",
       "inedible                          -0.24        -0.80    -0.532  0.061096  \n",
       "sloppy                            -0.31        -0.85    -0.534  0.040664  \n",
       "horrible                          -0.20        -0.79    -0.600  0.106640  "
      ]
     },
     "execution_count": 10,
     "metadata": {},
     "output_type": "execute_result"
    }
   ],
   "source": [
    "dfgt4.tail()"
   ]
  },
  {
   "cell_type": "code",
   "execution_count": null,
   "metadata": {},
   "outputs": [],
   "source": []
  },
  {
   "cell_type": "code",
   "execution_count": 17,
   "metadata": {},
   "outputs": [],
   "source": [
    "wb = dfv.copy()\n",
    "wb = wb[~wb['token'].isin(FOOD_POSITIVE_SEEDS)]\n"
   ]
  },
  {
   "cell_type": "code",
   "execution_count": 18,
   "metadata": {},
   "outputs": [
    {
     "data": {
      "text/plain": [
       "'Ok'"
      ]
     },
     "execution_count": 18,
     "metadata": {},
     "output_type": "execute_result"
    }
   ],
   "source": [
    "wb = wb.set_index('token')\n",
    "wb.drop(['method_count'],inplace=True,axis=1)\n",
    "\"Ok\""
   ]
  },
  {
   "cell_type": "code",
   "execution_count": 19,
   "metadata": {},
   "outputs": [
    {
     "data": {
      "text/plain": [
       "(19967, 6)"
      ]
     },
     "execution_count": 19,
     "metadata": {},
     "output_type": "execute_result"
    }
   ],
   "source": [
    "wb['mean_pol'] = wb.mean(axis=1)\n",
    "wb.shape"
   ]
  },
  {
   "cell_type": "code",
   "execution_count": 23,
   "metadata": {},
   "outputs": [],
   "source": [
    "w = wb.copy()\n",
    "w = w.reset_index()\n",
    "\n",
    "w.drop([   u'densify',\n",
    "                     u'graph_propagate',    u'label_propagate_continuous',\n",
    "       u'label_propagate_probabilistic',                   u'random_walk'],inplace=True,axis=1)\n",
    "w=w.rename({\"mean_pol\":\"food\"},axis=1)\n",
    "w.to_csv(\"common_food_words.csv\",encoding='utf-8')"
   ]
  },
  {
   "cell_type": "code",
   "execution_count": null,
   "metadata": {},
   "outputs": [],
   "source": []
  },
  {
   "cell_type": "code",
   "execution_count": null,
   "metadata": {},
   "outputs": [],
   "source": []
  },
  {
   "cell_type": "code",
   "execution_count": null,
   "metadata": {},
   "outputs": [],
   "source": []
  },
  {
   "cell_type": "code",
   "execution_count": 11,
   "metadata": {},
   "outputs": [
    {
     "data": {
      "text/html": [
       "<div>\n",
       "<style scoped>\n",
       "    .dataframe tbody tr th:only-of-type {\n",
       "        vertical-align: middle;\n",
       "    }\n",
       "\n",
       "    .dataframe tbody tr th {\n",
       "        vertical-align: top;\n",
       "    }\n",
       "\n",
       "    .dataframe thead th {\n",
       "        text-align: right;\n",
       "    }\n",
       "</style>\n",
       "<table border=\"1\" class=\"dataframe\">\n",
       "  <thead>\n",
       "    <tr style=\"text-align: right;\">\n",
       "      <th></th>\n",
       "      <th>densify</th>\n",
       "      <th>graph_propagate</th>\n",
       "      <th>label_propagate_continuous</th>\n",
       "      <th>label_propagate_probabilistic</th>\n",
       "      <th>random_walk</th>\n",
       "      <th>mean_pol</th>\n",
       "      <th>var</th>\n",
       "    </tr>\n",
       "    <tr>\n",
       "      <th>token</th>\n",
       "      <th></th>\n",
       "      <th></th>\n",
       "      <th></th>\n",
       "      <th></th>\n",
       "      <th></th>\n",
       "      <th></th>\n",
       "      <th></th>\n",
       "    </tr>\n",
       "  </thead>\n",
       "  <tbody>\n",
       "    <tr>\n",
       "      <th>pathetic</th>\n",
       "      <td>-0.94</td>\n",
       "      <td>-0.75</td>\n",
       "      <td>-0.01</td>\n",
       "      <td>0.01</td>\n",
       "      <td>-0.12</td>\n",
       "      <td>-0.362</td>\n",
       "      <td>0.161096</td>\n",
       "    </tr>\n",
       "    <tr>\n",
       "      <th>unpleasant</th>\n",
       "      <td>-0.89</td>\n",
       "      <td>-0.15</td>\n",
       "      <td>-0.01</td>\n",
       "      <td>0.01</td>\n",
       "      <td>-0.09</td>\n",
       "      <td>-0.226</td>\n",
       "      <td>0.113504</td>\n",
       "    </tr>\n",
       "    <tr>\n",
       "      <th>lousy</th>\n",
       "      <td>-0.71</td>\n",
       "      <td>-0.72</td>\n",
       "      <td>-0.01</td>\n",
       "      <td>0.01</td>\n",
       "      <td>-0.11</td>\n",
       "      <td>-0.308</td>\n",
       "      <td>0.112096</td>\n",
       "    </tr>\n",
       "    <tr>\n",
       "      <th>disgusting</th>\n",
       "      <td>-0.91</td>\n",
       "      <td>-0.67</td>\n",
       "      <td>-0.08</td>\n",
       "      <td>-0.05</td>\n",
       "      <td>-0.44</td>\n",
       "      <td>-0.430</td>\n",
       "      <td>0.111000</td>\n",
       "    </tr>\n",
       "    <tr>\n",
       "      <th>inventive</th>\n",
       "      <td>0.88</td>\n",
       "      <td>0.04</td>\n",
       "      <td>0.02</td>\n",
       "      <td>0.04</td>\n",
       "      <td>0.26</td>\n",
       "      <td>0.248</td>\n",
       "      <td>0.107616</td>\n",
       "    </tr>\n",
       "  </tbody>\n",
       "</table>\n",
       "</div>"
      ],
      "text/plain": [
       "            densify  graph_propagate  label_propagate_continuous  \\\n",
       "token                                                              \n",
       "pathetic      -0.94            -0.75                       -0.01   \n",
       "unpleasant    -0.89            -0.15                       -0.01   \n",
       "lousy         -0.71            -0.72                       -0.01   \n",
       "disgusting    -0.91            -0.67                       -0.08   \n",
       "inventive      0.88             0.04                        0.02   \n",
       "\n",
       "            label_propagate_probabilistic  random_walk  mean_pol       var  \n",
       "token                                                                       \n",
       "pathetic                             0.01        -0.12    -0.362  0.161096  \n",
       "unpleasant                           0.01        -0.09    -0.226  0.113504  \n",
       "lousy                                0.01        -0.11    -0.308  0.112096  \n",
       "disgusting                          -0.05        -0.44    -0.430  0.111000  \n",
       "inventive                            0.04         0.26     0.248  0.107616  "
      ]
     },
     "execution_count": 11,
     "metadata": {},
     "output_type": "execute_result"
    }
   ],
   "source": [
    "dfgt5 = dfgt4.sort_values('var',ascending=False)\n",
    "dfgt5.head()"
   ]
  },
  {
   "cell_type": "code",
   "execution_count": 12,
   "metadata": {},
   "outputs": [
    {
     "data": {
      "text/html": [
       "<div>\n",
       "<style scoped>\n",
       "    .dataframe tbody tr th:only-of-type {\n",
       "        vertical-align: middle;\n",
       "    }\n",
       "\n",
       "    .dataframe tbody tr th {\n",
       "        vertical-align: top;\n",
       "    }\n",
       "\n",
       "    .dataframe thead th {\n",
       "        text-align: right;\n",
       "    }\n",
       "</style>\n",
       "<table border=\"1\" class=\"dataframe\">\n",
       "  <thead>\n",
       "    <tr style=\"text-align: right;\">\n",
       "      <th></th>\n",
       "      <th>densify</th>\n",
       "      <th>graph_propagate</th>\n",
       "      <th>label_propagate_continuous</th>\n",
       "      <th>label_propagate_probabilistic</th>\n",
       "      <th>random_walk</th>\n",
       "      <th>mean_pol</th>\n",
       "      <th>var</th>\n",
       "    </tr>\n",
       "    <tr>\n",
       "      <th>token</th>\n",
       "      <th></th>\n",
       "      <th></th>\n",
       "      <th></th>\n",
       "      <th></th>\n",
       "      <th></th>\n",
       "      <th></th>\n",
       "      <th></th>\n",
       "    </tr>\n",
       "  </thead>\n",
       "  <tbody>\n",
       "    <tr>\n",
       "      <th>limp</th>\n",
       "      <td>-0.66</td>\n",
       "      <td>-0.59</td>\n",
       "      <td>-0.26</td>\n",
       "      <td>-0.24</td>\n",
       "      <td>-0.80</td>\n",
       "      <td>-0.510</td>\n",
       "      <td>0.049680</td>\n",
       "    </tr>\n",
       "    <tr>\n",
       "      <th>greasy</th>\n",
       "      <td>-0.26</td>\n",
       "      <td>-0.24</td>\n",
       "      <td>-0.24</td>\n",
       "      <td>-0.24</td>\n",
       "      <td>-0.80</td>\n",
       "      <td>-0.356</td>\n",
       "      <td>0.049344</td>\n",
       "    </tr>\n",
       "    <tr>\n",
       "      <th>wilted</th>\n",
       "      <td>-0.48</td>\n",
       "      <td>0.04</td>\n",
       "      <td>-0.07</td>\n",
       "      <td>-0.04</td>\n",
       "      <td>-0.46</td>\n",
       "      <td>-0.202</td>\n",
       "      <td>0.049216</td>\n",
       "    </tr>\n",
       "    <tr>\n",
       "      <th>lovely</th>\n",
       "      <td>0.70</td>\n",
       "      <td>0.61</td>\n",
       "      <td>0.27</td>\n",
       "      <td>0.30</td>\n",
       "      <td>0.83</td>\n",
       "      <td>0.542</td>\n",
       "      <td>0.049016</td>\n",
       "    </tr>\n",
       "    <tr>\n",
       "      <th>okay</th>\n",
       "      <td>-0.33</td>\n",
       "      <td>0.23</td>\n",
       "      <td>0.08</td>\n",
       "      <td>0.10</td>\n",
       "      <td>0.31</td>\n",
       "      <td>0.078</td>\n",
       "      <td>0.048776</td>\n",
       "    </tr>\n",
       "  </tbody>\n",
       "</table>\n",
       "</div>"
      ],
      "text/plain": [
       "        densify  graph_propagate  label_propagate_continuous  \\\n",
       "token                                                          \n",
       "limp      -0.66            -0.59                       -0.26   \n",
       "greasy    -0.26            -0.24                       -0.24   \n",
       "wilted    -0.48             0.04                       -0.07   \n",
       "lovely     0.70             0.61                        0.27   \n",
       "okay      -0.33             0.23                        0.08   \n",
       "\n",
       "        label_propagate_probabilistic  random_walk  mean_pol       var  \n",
       "token                                                                   \n",
       "limp                            -0.24        -0.80    -0.510  0.049680  \n",
       "greasy                          -0.24        -0.80    -0.356  0.049344  \n",
       "wilted                          -0.04        -0.46    -0.202  0.049216  \n",
       "lovely                           0.30         0.83     0.542  0.049016  \n",
       "okay                             0.10         0.31     0.078  0.048776  "
      ]
     },
     "execution_count": 12,
     "metadata": {},
     "output_type": "execute_result"
    }
   ],
   "source": [
    "i=18\n",
    "dfgt5[i*5:i*5+5]"
   ]
  },
  {
   "cell_type": "code",
   "execution_count": 13,
   "metadata": {},
   "outputs": [
    {
     "data": {
      "text/html": [
       "<div>\n",
       "<style scoped>\n",
       "    .dataframe tbody tr th:only-of-type {\n",
       "        vertical-align: middle;\n",
       "    }\n",
       "\n",
       "    .dataframe tbody tr th {\n",
       "        vertical-align: top;\n",
       "    }\n",
       "\n",
       "    .dataframe thead th {\n",
       "        text-align: right;\n",
       "    }\n",
       "</style>\n",
       "<table border=\"1\" class=\"dataframe\">\n",
       "  <thead>\n",
       "    <tr style=\"text-align: right;\">\n",
       "      <th></th>\n",
       "      <th>densify</th>\n",
       "      <th>graph_propagate</th>\n",
       "      <th>label_propagate_continuous</th>\n",
       "      <th>label_propagate_probabilistic</th>\n",
       "      <th>random_walk</th>\n",
       "      <th>mean_pol</th>\n",
       "      <th>var</th>\n",
       "    </tr>\n",
       "    <tr>\n",
       "      <th>token</th>\n",
       "      <th></th>\n",
       "      <th></th>\n",
       "      <th></th>\n",
       "      <th></th>\n",
       "      <th></th>\n",
       "      <th></th>\n",
       "      <th></th>\n",
       "    </tr>\n",
       "  </thead>\n",
       "  <tbody>\n",
       "    <tr>\n",
       "      <th>brassy</th>\n",
       "      <td>0.04</td>\n",
       "      <td>0.05</td>\n",
       "      <td>0.01</td>\n",
       "      <td>0.04</td>\n",
       "      <td>0.06</td>\n",
       "      <td>0.040</td>\n",
       "      <td>0.000280</td>\n",
       "    </tr>\n",
       "    <tr>\n",
       "      <th>f**king</th>\n",
       "      <td>0.05</td>\n",
       "      <td>0.05</td>\n",
       "      <td>0.01</td>\n",
       "      <td>0.03</td>\n",
       "      <td>0.04</td>\n",
       "      <td>0.036</td>\n",
       "      <td>0.000224</td>\n",
       "    </tr>\n",
       "    <tr>\n",
       "      <th>macha</th>\n",
       "      <td>0.03</td>\n",
       "      <td>0.05</td>\n",
       "      <td>0.02</td>\n",
       "      <td>0.04</td>\n",
       "      <td>0.06</td>\n",
       "      <td>0.040</td>\n",
       "      <td>0.000200</td>\n",
       "    </tr>\n",
       "    <tr>\n",
       "      <th>all-round</th>\n",
       "      <td>0.04</td>\n",
       "      <td>0.05</td>\n",
       "      <td>0.01</td>\n",
       "      <td>0.03</td>\n",
       "      <td>0.03</td>\n",
       "      <td>0.032</td>\n",
       "      <td>0.000176</td>\n",
       "    </tr>\n",
       "    <tr>\n",
       "      <th>saying</th>\n",
       "      <td>0.04</td>\n",
       "      <td>0.04</td>\n",
       "      <td>0.01</td>\n",
       "      <td>0.03</td>\n",
       "      <td>0.04</td>\n",
       "      <td>0.032</td>\n",
       "      <td>0.000136</td>\n",
       "    </tr>\n",
       "  </tbody>\n",
       "</table>\n",
       "</div>"
      ],
      "text/plain": [
       "           densify  graph_propagate  label_propagate_continuous  \\\n",
       "token                                                             \n",
       "brassy        0.04             0.05                        0.01   \n",
       "f**king       0.05             0.05                        0.01   \n",
       "macha         0.03             0.05                        0.02   \n",
       "all-round     0.04             0.05                        0.01   \n",
       "saying        0.04             0.04                        0.01   \n",
       "\n",
       "           label_propagate_probabilistic  random_walk  mean_pol       var  \n",
       "token                                                                      \n",
       "brassy                              0.04         0.06     0.040  0.000280  \n",
       "f**king                             0.03         0.04     0.036  0.000224  \n",
       "macha                               0.04         0.06     0.040  0.000200  \n",
       "all-round                           0.03         0.03     0.032  0.000176  \n",
       "saying                              0.03         0.04     0.032  0.000136  "
      ]
     },
     "execution_count": 13,
     "metadata": {},
     "output_type": "execute_result"
    }
   ],
   "source": [
    "dfgt5 = dfgt4.sort_values('var',ascending=False)\n",
    "dfgt5.tail()"
   ]
  },
  {
   "cell_type": "code",
   "execution_count": 14,
   "metadata": {},
   "outputs": [
    {
     "data": {
      "text/plain": [
       "(0, 7)"
      ]
     },
     "execution_count": 14,
     "metadata": {},
     "output_type": "execute_result"
    }
   ],
   "source": [
    "dfgt5[dfgt5['var'] >= 0.30].shape"
   ]
  },
  {
   "cell_type": "code",
   "execution_count": null,
   "metadata": {},
   "outputs": [],
   "source": []
  },
  {
   "cell_type": "code",
   "execution_count": null,
   "metadata": {},
   "outputs": [],
   "source": []
  },
  {
   "cell_type": "code",
   "execution_count": null,
   "metadata": {},
   "outputs": [],
   "source": []
  },
  {
   "cell_type": "code",
   "execution_count": null,
   "metadata": {},
   "outputs": [],
   "source": []
  },
  {
   "cell_type": "code",
   "execution_count": null,
   "metadata": {},
   "outputs": [],
   "source": []
  },
  {
   "cell_type": "code",
   "execution_count": null,
   "metadata": {},
   "outputs": [],
   "source": []
  },
  {
   "cell_type": "code",
   "execution_count": null,
   "metadata": {},
   "outputs": [],
   "source": []
  },
  {
   "cell_type": "code",
   "execution_count": null,
   "metadata": {},
   "outputs": [],
   "source": []
  },
  {
   "cell_type": "code",
   "execution_count": null,
   "metadata": {},
   "outputs": [],
   "source": []
  },
  {
   "cell_type": "code",
   "execution_count": null,
   "metadata": {},
   "outputs": [],
   "source": []
  },
  {
   "cell_type": "code",
   "execution_count": null,
   "metadata": {},
   "outputs": [],
   "source": []
  }
 ],
 "metadata": {
  "kernelspec": {
   "display_name": "Python 2",
   "language": "python",
   "name": "python2"
  },
  "language_info": {
   "codemirror_mode": {
    "name": "ipython",
    "version": 2
   },
   "file_extension": ".py",
   "mimetype": "text/x-python",
   "name": "python",
   "nbconvert_exporter": "python",
   "pygments_lexer": "ipython2",
   "version": "2.7.15"
  }
 },
 "nbformat": 4,
 "nbformat_minor": 2
}